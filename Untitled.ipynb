{
 "cells": [
  {
   "cell_type": "code",
   "execution_count": 1,
   "id": "f8401561",
   "metadata": {},
   "outputs": [],
   "source": [
    "import re\n",
    "from urllib.parse import urlparse\n",
    "from bs4 import BeautifulSoup\n",
    "from urllib.parse import urldefrag\n",
    "from utils.dbconnect import Sqlite_db\n",
    "import numpy as np\n",
    "from numpy.linalg import norm\n",
    "from sklearn.feature_extraction.text import TfidfVectorizer\n",
    "from sklearn.metrics.pairwise import cosine_similarity\n",
    "from english_words import get_english_words_set"
   ]
  },
  {
   "cell_type": "code",
   "execution_count": 37,
   "id": "8b5b9eac",
   "metadata": {},
   "outputs": [],
   "source": [
    "global web2lowerset\n",
    "web2lowerset = get_english_words_set(['web2'], lower=True)\n",
    "\n",
    "#check if more than 90% of words in page are valid\n",
    "def is_words_in_page_valid(words):\n",
    "    y =  np.isin(np.char.lower(words), web2lowerset)\n",
    "    print (y)\n",
    "    if np.mean(y) > 0.9:\n",
    "        return True\n",
    "    return False"
   ]
  },
  {
   "cell_type": "code",
   "execution_count": 2,
   "id": "71da398d",
   "metadata": {},
   "outputs": [],
   "source": [
    "words = ['hi', 'hi',  'hi', 'Hello']"
   ]
  },
  {
   "cell_type": "code",
   "execution_count": 3,
   "id": "4683e91c",
   "metadata": {},
   "outputs": [],
   "source": [
    "words = np.char.lower(words)"
   ]
  },
  {
   "cell_type": "code",
   "execution_count": 4,
   "id": "6c39e57b",
   "metadata": {},
   "outputs": [],
   "source": [
    "import collections"
   ]
  },
  {
   "cell_type": "code",
   "execution_count": 5,
   "id": "779bf625",
   "metadata": {},
   "outputs": [],
   "source": [
    "counter = collections.Counter(words)"
   ]
  },
  {
   "cell_type": "code",
   "execution_count": 6,
   "id": "a15f73a3",
   "metadata": {},
   "outputs": [
    {
     "data": {
      "text/plain": [
       "Counter({'hi': 3, 'hello': 1})"
      ]
     },
     "execution_count": 6,
     "metadata": {},
     "output_type": "execute_result"
    }
   ],
   "source": [
    "counter"
   ]
  },
  {
   "cell_type": "code",
   "execution_count": 7,
   "id": "cb0e1521",
   "metadata": {},
   "outputs": [
    {
     "name": "stdout",
     "output_type": "stream",
     "text": [
      "hi\n",
      "3\n",
      "hello\n",
      "1\n"
     ]
    }
   ],
   "source": [
    "for c in counter:\n",
    "    print (c)\n",
    "    print( counter[c])"
   ]
  },
  {
   "cell_type": "code",
   "execution_count": 10,
   "id": "4e133e6d",
   "metadata": {},
   "outputs": [],
   "source": [
    "mydb = Sqlite_db()\n",
    "mydb.reset_db()"
   ]
  },
  {
   "cell_type": "code",
   "execution_count": 13,
   "id": "6270b471",
   "metadata": {},
   "outputs": [],
   "source": [
    "for word in counter:\n",
    "    mydb.add_word_count(word, counter[word])"
   ]
  },
  {
   "cell_type": "code",
   "execution_count": 15,
   "id": "0704145f",
   "metadata": {},
   "outputs": [],
   "source": [
    "mydb.add_url('im_url', 'similar text is here', 3)\n",
    "mydb.add_url('im_url2', 'not quite sim', 3)"
   ]
  },
  {
   "cell_type": "code",
   "execution_count": 17,
   "id": "3a6215c2",
   "metadata": {},
   "outputs": [],
   "source": [
    "mydb.cur.execute(\"SELECT text FROM visited\")\n",
    "contents = mydb.cur.fetchall()"
   ]
  },
  {
   "cell_type": "code",
   "execution_count": 18,
   "id": "aaf8ebfd",
   "metadata": {},
   "outputs": [
    {
     "data": {
      "text/plain": [
       "[('similar text is here',), ('not quite sim',)]"
      ]
     },
     "execution_count": 18,
     "metadata": {},
     "output_type": "execute_result"
    }
   ],
   "source": [
    "contents"
   ]
  },
  {
   "cell_type": "code",
   "execution_count": 19,
   "id": "78c9660d",
   "metadata": {},
   "outputs": [],
   "source": [
    "contents = [c[0] for c in contents]"
   ]
  },
  {
   "cell_type": "code",
   "execution_count": 20,
   "id": "f1b369c1",
   "metadata": {},
   "outputs": [
    {
     "data": {
      "text/plain": [
       "['similar text is here', 'not quite sim']"
      ]
     },
     "execution_count": 20,
     "metadata": {},
     "output_type": "execute_result"
    }
   ],
   "source": [
    "contents"
   ]
  },
  {
   "cell_type": "code",
   "execution_count": 25,
   "id": "5368ca6c",
   "metadata": {},
   "outputs": [],
   "source": [
    "contents.append('text similar is here')"
   ]
  },
  {
   "cell_type": "code",
   "execution_count": 26,
   "id": "f901aaa4",
   "metadata": {},
   "outputs": [
    {
     "data": {
      "text/plain": [
       "['similar text is here',\n",
       " 'not quite sim',\n",
       " 'similar text is here',\n",
       " 'text similar is here']"
      ]
     },
     "execution_count": 26,
     "metadata": {},
     "output_type": "execute_result"
    }
   ],
   "source": [
    "contents"
   ]
  },
  {
   "cell_type": "code",
   "execution_count": 27,
   "id": "29148038",
   "metadata": {},
   "outputs": [],
   "source": [
    "vectorizer = TfidfVectorizer()\n",
    "vectors = vectorizer.fit_transform(contents)\n",
    "similarity = cosine_similarity(vectors[-1], vectors[:-1])"
   ]
  },
  {
   "cell_type": "code",
   "execution_count": 28,
   "id": "fbebe765",
   "metadata": {},
   "outputs": [
    {
     "data": {
      "text/plain": [
       "array([[1., 0., 1.]])"
      ]
     },
     "execution_count": 28,
     "metadata": {},
     "output_type": "execute_result"
    }
   ],
   "source": [
    "similarity"
   ]
  },
  {
   "cell_type": "code",
   "execution_count": 30,
   "id": "17e78de1",
   "metadata": {},
   "outputs": [
    {
     "data": {
      "text/plain": [
       "True"
      ]
     },
     "execution_count": 30,
     "metadata": {},
     "output_type": "execute_result"
    }
   ],
   "source": [
    "mydb.check_visited_url('im_url')"
   ]
  },
  {
   "cell_type": "code",
   "execution_count": 32,
   "id": "25dd7e5d",
   "metadata": {},
   "outputs": [],
   "source": [
    "page_words = 'text similar is here'.split()"
   ]
  },
  {
   "cell_type": "code",
   "execution_count": 33,
   "id": "da3be4b4",
   "metadata": {},
   "outputs": [
    {
     "data": {
      "text/plain": [
       "['text', 'similar', 'is', 'here']"
      ]
     },
     "execution_count": 33,
     "metadata": {},
     "output_type": "execute_result"
    }
   ],
   "source": [
    "page_words"
   ]
  },
  {
   "cell_type": "code",
   "execution_count": 38,
   "id": "87ec68a0",
   "metadata": {},
   "outputs": [
    {
     "name": "stdout",
     "output_type": "stream",
     "text": [
      "[False False False False]\n"
     ]
    },
    {
     "data": {
      "text/plain": [
       "False"
      ]
     },
     "execution_count": 38,
     "metadata": {},
     "output_type": "execute_result"
    }
   ],
   "source": [
    "is_words_in_page_valid(page_words)"
   ]
  },
  {
   "cell_type": "code",
   "execution_count": 45,
   "id": "fe3e66b5",
   "metadata": {},
   "outputs": [
    {
     "data": {
      "text/plain": [
       "True"
      ]
     },
     "execution_count": 45,
     "metadata": {},
     "output_type": "execute_result"
    }
   ],
   "source": [
    "'similarly' in web2lowerset"
   ]
  },
  {
   "cell_type": "code",
   "execution_count": 56,
   "id": "8c7334ff",
   "metadata": {},
   "outputs": [
    {
     "data": {
      "text/plain": [
       "array([ True,  True,  True,  True])"
      ]
     },
     "execution_count": 56,
     "metadata": {},
     "output_type": "execute_result"
    }
   ],
   "source": [
    "np.in1d(page_words, np.array(list(web2lowerset)))"
   ]
  },
  {
   "cell_type": "code",
   "execution_count": null,
   "id": "7509365c",
   "metadata": {},
   "outputs": [],
   "source": [
    "np.array(web2lowerset)"
   ]
  },
  {
   "cell_type": "code",
   "execution_count": 53,
   "id": "4d155652",
   "metadata": {},
   "outputs": [
    {
     "data": {
      "text/plain": [
       "list"
      ]
     },
     "execution_count": 53,
     "metadata": {},
     "output_type": "execute_result"
    }
   ],
   "source": [
    "type(list(web2lowerset))"
   ]
  },
  {
   "cell_type": "code",
   "execution_count": 55,
   "id": "37825e7a",
   "metadata": {},
   "outputs": [
    {
     "data": {
      "text/plain": [
       "array(['abolish', 'outslink', 'twitchet', ..., 'drooper', 'diphtheritic',\n",
       "       'stigmata'], dtype='<U28')"
      ]
     },
     "execution_count": 55,
     "metadata": {},
     "output_type": "execute_result"
    }
   ],
   "source": [
    "np.array(list(web2lowerset))"
   ]
  },
  {
   "cell_type": "code",
   "execution_count": null,
   "id": "961d2802",
   "metadata": {},
   "outputs": [],
   "source": [
    "mydb.content_exist(resp.raw_response.content)"
   ]
  }
 ],
 "metadata": {
  "kernelspec": {
   "display_name": "Python 3 (ipykernel)",
   "language": "python",
   "name": "python3"
  },
  "language_info": {
   "codemirror_mode": {
    "name": "ipython",
    "version": 3
   },
   "file_extension": ".py",
   "mimetype": "text/x-python",
   "name": "python",
   "nbconvert_exporter": "python",
   "pygments_lexer": "ipython3",
   "version": "3.10.9"
  }
 },
 "nbformat": 4,
 "nbformat_minor": 5
}
